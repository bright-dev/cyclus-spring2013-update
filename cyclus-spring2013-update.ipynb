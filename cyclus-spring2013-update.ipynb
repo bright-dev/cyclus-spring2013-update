{
 "metadata": {
  "name": "cyclus-spring2013-update"
 },
 "nbformat": 3,
 "nbformat_minor": 0,
 "worksheets": [
  {
   "cells": [
    {
     "cell_type": "markdown",
     "metadata": {
      "slideshow": {
       "slide_type": "slide"
      }
     },
     "source": [
      "<div style=\"text-align:center\">\n",
      "<h1>Cyclus Spring 2013 Update</h1>\n",
      "<h2>Work to Date</h2>\n",
      "</div>\n",
      "<div style=\"text-align:center\">Dr. Anthony Michael Scopatz, John Xia</div>\n",
      "<div style=\"text-align:center\">The University of Chicago, The Flash Center for Computational Science</div>\n",
      "<div style=\"text-align:center\">UT Austin, April 19th, 2013</div>"
     ]
    },
    {
     "cell_type": "code",
     "collapsed": false,
     "input": [
      "import numpy as np\n",
      "import matplotlib\n",
      "matplotlib.rc('font', family='serif', size=16)\n",
      "import matplotlib.pyplot as plt\n",
      "from IPython.display import *"
     ],
     "language": "python",
     "metadata": {
      "slideshow": {
       "slide_type": "skip"
      }
     },
     "outputs": [],
     "prompt_number": 1
    },
    {
     "cell_type": "markdown",
     "metadata": {
      "slideshow": {
       "slide_type": "slide"
      }
     },
     "source": [
      "<script type=\"text/javascript\">\n",
      "\twindow.onload=function(){\n",
      "\tvar tfrow = document.getElementById('modapptable').rows.length;\n",
      "\tvar tbRow=[];\n",
      "\tfor (var i=1;i<tfrow;i++) {\n",
      "\t\ttbRow[i]=document.getElementById('modapptable').rows[i];\n",
      "\t\ttbRow[i].onmouseover = function(){\n",
      "\t\t  this.style.backgroundColor = '#f3f8aa';\n",
      "\t\t};\n",
      "\t\ttbRow[i].onmouseout = function() {\n",
      "\t\t  this.style.backgroundColor = '#ffffff';\n",
      "\t\t};\n",
      "\t}\n",
      "};\n",
      "</script>\n",
      "<style type=\"text/css\">\n",
      "table.tftable {color:#333333;width:80%;border-width: 1px;border-color: #a9a9a9;border-collapse: collapse;text-align:center; margin: auto;}\n",
      "table.tftable th {background-color:#b8b8b8;border-width: 1px;padding: 4px;border-style: solid;border-color: #a9a9a9;text-align:left;}\n",
      "table.tftable tr {background-color:#ffffff;text-align:center;}\n",
      "table.tftable td {border-width: 1px;padding: 4px;border-style: solid;border-color: #a9a9a9;text-align:center;}\n",
      "</style>\n",
      "\n",
      "## Essential Physics, NFC, & Bright\n",
      "\n",
      "Bright is collection of composable essential physics facility models.\n",
      "\n",
      "<div style=\"text-align:center;\"><img src=\"figs/basic_nfc_schema.svg\" /></div>\n",
      "\n",
      "<table id=\"modapptable\" class=\"tftable\" border=\"1\">\n",
      "<tr><th>Component</th><th>Recipes</th><th>Essential</th><th>Transport</th></tr>\n",
      "<tr><td style=\"text-align:left;\"><b>Front End:</b></td><td>Recipes</td><td>Physics Models</td><td>Physics Models</td></tr>\n",
      "<tr><td style=\"text-align:left;\"><b>Reactor:</b></td><td>Recipes</td><td>Rapid Burnup Code (<font style=\"color:red;\">Bright</font>)</td><td>Neutron Transport</td></tr>\n",
      "<tr><td style=\"text-align:left;\"><b>Repository:</b></td><td>Curve Fits</td><td>Rapid Code (<font style=\"color:red;\">Cyder</font>)</td><td>Neutron Transport</td></tr>\n",
      "</table>"
     ]
    },
    {
     "cell_type": "markdown",
     "metadata": {
      "slideshow": {
       "slide_type": "slide"
      }
     },
     "source": [
      "## One-Group & Multi-Group Reactor Models\n",
      "\n",
      "Bright is notoriously reactor-centric.\n",
      "\n",
      "<div style=\"text-align:center;\"><img src=\"figs/reactor_model.svg\" width=\"65%\" /><h3>Figure 1: Reactor Model [1]</h3></div>"
     ]
    },
    {
     "cell_type": "markdown",
     "metadata": {
      "slideshow": {
       "slide_type": "slide"
      }
     },
     "source": [
      "## Bright API\n",
      "\n",
      "Bright has a gradation of API difficulty which varies based on the level of information required and user expertise.  These start from the very simple:"
     ]
    },
    {
     "cell_type": "code",
     "collapsed": false,
     "input": [
      "from bright import bright_data\n",
      "from bright.light_water_reactor1g import LightWaterReactor1G\n",
      "lwr = LightWaterReactor1G(bright_data + '/LWR.h5')\n",
      "lwr.target_BU = 50.0\n",
      "used_fuel = lwr.calc({'U235': 0.05, 'U238': 0.95})\n",
      "print used_fuel.sub_pu()"
     ],
     "language": "python",
     "metadata": {},
     "outputs": [
      {
       "output_type": "stream",
       "stream": "stdout",
       "text": [
        "Material:\n",
        "mass = 0.0105612178437\n",
        "density= -1.0\n",
        "atoms per molecule = -1.0\n",
        "-------------------------\n",
        "PU236  2.89500250409e-07\n",
        "PU237  4.50198311695e-08\n",
        "PU238  0.0298558079378\n",
        "PU239  0.506011795264\n",
        "PU240  0.200858798748\n",
        "PU241  0.181403698665\n",
        "PU242  0.0818357790184\n",
        "PU243  2.66874955633e-05\n",
        "PU244  7.09835034294e-06\n",
        "PU245  0.0\n",
        "PU246  0.0\n"
       ]
      }
     ],
     "prompt_number": 12
    },
    {
     "cell_type": "markdown",
     "metadata": {
      "slideshow": {
       "slide_type": "slide"
      }
     },
     "source": [
      "## Bright-Cyclus Integration\n",
      "\n",
      "* Most of the Bright physics models are implemented as C++ classes.  The exceptions are models which are Python subclasses of the C++ version."
     ]
    },
    {
     "cell_type": "markdown",
     "metadata": {
      "slideshow": {
       "slide_type": "fragment"
      }
     },
     "source": [
      "* The basic idea here is to expose the C++ version of the simple API as cyclus facility models."
     ]
    },
    {
     "cell_type": "markdown",
     "metadata": {
      "slideshow": {
       "slide_type": "fragment"
      }
     },
     "source": [
      "* In particular, the reactor facilities are most important."
     ]
    },
    {
     "cell_type": "markdown",
     "metadata": {
      "slideshow": {
       "slide_type": "fragment"
      }
     },
     "source": [
      "* Another focus of this NEUP is *in vivo* library creation & cross section generation."
     ]
    },
    {
     "cell_type": "markdown",
     "metadata": {
      "slideshow": {
       "slide_type": "fragment"
      }
     },
     "source": [
      "* The cyclus bindings will benefit from further Bright development."
     ]
    },
    {
     "cell_type": "markdown",
     "metadata": {
      "slideshow": {
       "slide_type": "slide"
      }
     },
     "source": [
      "<div style=\"text-align:center\"><h1>Current Status</h1></div>"
     ]
    },
    {
     "cell_type": "markdown",
     "metadata": {
      "slideshow": {
       "slide_type": "slide"
      }
     },
     "source": [
      "## Cyclus API Evolution\n",
      "\n",
      "* The Cyclus API has changed significantly since the begining of the this NEUP and has further changes in the pipeline."
     ]
    },
    {
     "cell_type": "markdown",
     "metadata": {
      "slideshow": {
       "slide_type": "fragment"
      }
     },
     "source": [
      "<div style=\"text-align:center;\">This is a generally a good thing.</div>"
     ]
    },
    {
     "cell_type": "markdown",
     "metadata": {
      "slideshow": {
       "slide_type": "fragment"
      }
     },
     "source": [
      "* However, it poses technical and maintaince challenges for Bright to target a currently evolving front-end."
     ]
    },
    {
     "cell_type": "markdown",
     "metadata": {
      "slideshow": {
       "slide_type": "fragment"
      }
     },
     "source": [
      "To mitigate these challenges, Bright adopted an automatic binding generation strategy.  This minimizes the effort needed to update to new front end APIs for an entire code base."
     ]
    },
    {
     "cell_type": "markdown",
     "metadata": {
      "slideshow": {
       "slide_type": "fragment"
      }
     },
     "source": [
      "<div style=\"text-align:right;font-weight:bold;\">However, code generation is generally useful.</div>"
     ]
    },
    {
     "cell_type": "markdown",
     "metadata": {
      "slideshow": {
       "slide_type": "slide"
      }
     },
     "source": [
      "## Enter: xdress\n",
      "\n",
      "[website:](https://s3.amazonaws.com/xdress/index.html)"
     ]
    },
    {
     "cell_type": "markdown",
     "metadata": {},
     "source": [
      "<div style=\"text-align:center;\"><iframe src=https://s3.amazonaws.com/xdress/index.html?useformat=mobile width=600 height=400></iframe></div>"
     ]
    },
    {
     "cell_type": "markdown",
     "metadata": {
      "slideshow": {
       "slide_type": "slide"
      }
     },
     "source": [
      "## Why XDress?\n",
      "\n",
      "* XDress is the current way that Bright generates its Python interface.\n",
      "* Once there is one C++ auto-wrapper, it is easy to build other code generators."
     ]
    },
    {
     "cell_type": "markdown",
     "metadata": {
      "slideshow": {
       "slide_type": "fragment"
      }
     },
     "source": [
      "* The xdress type system natively addresses V&V concerns important to computational science.\n",
      "    * Other auto-wrapping technologies miss this in a big way."
     ]
    },
    {
     "cell_type": "markdown",
     "metadata": {
      "slideshow": {
       "slide_type": "fragment"
      }
     },
     "source": [
      "* This enables the imminent cyclus bindings to be as robust as possible."
     ]
    },
    {
     "cell_type": "markdown",
     "metadata": {
      "slideshow": {
       "slide_type": "fragment"
      }
     },
     "source": [
      "* A talk on Bright & xdress has been accepted to GLOBAL 2013, entitled \"*A Dynamic, Dependent Type System for Nuclear Fuel Cycle Code Generation*.\""
     ]
    },
    {
     "cell_type": "markdown",
     "metadata": {
      "slideshow": {
       "slide_type": "slide"
      }
     },
     "source": [
      "## A Taste of the Type System\n",
      "\n",
      "    # Base type are just their names\n",
      "    'str'\n",
      "    'float64'\n",
      "\n",
      "    # Aliases may also be used\n",
      "    'f4'     # -> 'float32'\n",
      "    \n",
      "    # Length-1 tuples expand to have scalar predicates\n",
      "    ('int32',)  # -> ('int32', 0)\n",
      "\n",
      "    # Refinement types may be listed by name only\n",
      "    'posint'  # -> ('int32', 'posint')\n",
      "\n",
      "    # Templates are given within tuples\n",
      "    ('map', 'i4', 'float')\n",
      "\n",
      "    # As are dependencies values\n",
      "    ('range', 'int32', 1, 42)\n",
      "\n",
      "    # And any combination of the above!\n",
      "    (('map', 'posint', ('set', ('intrange', 1, 42))),)"
     ]
    },
    {
     "cell_type": "markdown",
     "metadata": {
      "slideshow": {
       "slide_type": "slide"
      }
     },
     "source": [
      "## Why Release XDress Independently of Bright?\n",
      "\n",
      "* It fills a niche."
     ]
    },
    {
     "cell_type": "markdown",
     "metadata": {
      "slideshow": {
       "slide_type": "fragment"
      }
     },
     "source": [
      "<br/>\n",
      "<table id=\"modapptable\" class=\"tftable\" border=\"1\" style=\"width:400px;\">\n",
      "<tr><th>Project</th><th>GitHub Stars (2013-04-18)</th></tr>\n",
      "<tr><td style=\"text-align:left;\"><b>Cyclus Core</b></td><td>14</td></tr>\n",
      "<tr><td style=\"text-align:left;\"><b>XDress</b></td><td>13</td></tr>\n",
      "<tr><td style=\"text-align:left;\"><b>Bright</b></td><td>5</td></tr>\n",
      "<tr><td style=\"text-align:left;\"><b>PyNE</b></td><td>16</td></tr>\n",
      "<tr><td style=\"text-align:left;\"><b>OpenMC</b></td><td>16</td></tr>\n",
      "</table>"
     ]
    },
    {
     "cell_type": "markdown",
     "metadata": {
      "slideshow": {
       "slide_type": "fragment"
      }
     },
     "source": [
      "<br/>\n",
      "\n",
      "* Useful in non-Bright projects, i.e. PyNE and Cyclus (see [cyclus/cycamore#36](https://github.com/cyclus/cycamore/issues/36)). \n",
      "                                                            "
     ]
    },
    {
     "cell_type": "markdown",
     "metadata": {
      "slideshow": {
       "slide_type": "fragment"
      }
     },
     "source": [
      "<br/>\n",
      "\n",
      "* I was asked to at PyCon 2013."
     ]
    },
    {
     "cell_type": "markdown",
     "metadata": {
      "slideshow": {
       "slide_type": "slide"
      }
     },
     "source": [
      "## ENDF Reader\n",
      "\n",
      "* Precomputing cross-sections or computing them on-the-fly is useful\n",
      "* Existing tools are hard to use or slow\n",
      "* To easily and quickly compute cross-sections, we need to be able to easily and quickly read nuclear data"
     ]
    },
    {
     "cell_type": "markdown",
     "metadata": {
      "slideshow": {
       "slide_type": "slide"
      }
     },
     "source": [
      "## ENDF Reader Current Status\n",
      "* Read in headers, resonance data, and cross-section data from ENDF files"
     ]
    },
    {
     "cell_type": "markdown",
     "metadata": {
      "slideshow": {
       "slide_type": "slide"
      }
     },
     "source": [
      "## Next Steps for Nuclear Data Processing\n",
      "Stuff here"
     ]
    },
    {
     "cell_type": "markdown",
     "metadata": {
      "slideshow": {
       "slide_type": "slide"
      }
     },
     "source": [
      "## As a Cyclus End User & Third Party Developer\n",
      "\n",
      "I am excited for the day when I can get Bright-Cyclus integration fully opperational!"
     ]
    },
    {
     "cell_type": "markdown",
     "metadata": {
      "slideshow": {
       "slide_type": "fragment"
      }
     },
     "source": [
      "We are all going to the same place, so let's make the tools as good as possible."
     ]
    },
    {
     "cell_type": "markdown",
     "metadata": {
      "slideshow": {
       "slide_type": "fragment"
      }
     },
     "source": [
      "I continue to try to bring to the fore outstanding issues and pain points I find in the Cycus ecosystem."
     ]
    },
    {
     "cell_type": "markdown",
     "metadata": {
      "slideshow": {
       "slide_type": "slide"
      }
     },
     "source": [
      "## Questions\n",
      "\n",
      "<div style=\"text-align:center;\"><img src=\"http://24.media.tumblr.com/tumblr_m1rk6gkLao1r38bjro10_500.jpg\" width=\"80%\" /></div>"
     ]
    },
    {
     "cell_type": "markdown",
     "metadata": {
      "slideshow": {
       "slide_type": "slide"
      }
     },
     "source": [
      "## References\n",
      "\n",
      "1. Anthony M. Scopatz and Erich a. Schneider. \u201cA new method for rapid computation of transient fuel cycle material balances\u201d. In: Nuclear Engineering and Design 239.10 (Oct. 2009), pp. 2169\u20132184. ISSN: 00295493. DOI: 10.1016/j.nucengdes.2009.02.022. URL: http://linkinghub.elsevier.com/retrieve/pii/S0029549309000922\n",
      "2. Nuclear Energy Data Files. Los Alamos National Laboratory - Theoretical Nuclear Physics. 2009. URL: http://t2.lanl.gov/data/data.html"
     ]
    },
    {
     "cell_type": "code",
     "collapsed": false,
     "input": [
      "!make"
     ],
     "language": "python",
     "metadata": {
      "slideshow": {
       "slide_type": "skip"
      }
     },
     "outputs": [
      {
       "output_type": "stream",
       "stream": "stdout",
       "text": [
        "cp -r ~/nbconvert/reveal . \r\n",
        "rm -rf reveal/.git* \r\n",
        "mkdir -p js \r\n",
        "cp ~/nbconvert/js/mathjax-onload.js js\r\n",
        "cp classy.css reveal/css/theme/ \r\n",
        "python ~/nbconvert/nbconvert.py -f reveal cyclus-spring2013-update.ipynb \r\n"
       ]
      },
      {
       "output_type": "stream",
       "stream": "stdout",
       "text": [
        "sed -i 's:reveal/css/theme/simple.css:reveal/css/theme/classy.css:' cyclus-spring2013-update_slides.html \r\n",
        "sed -i 's:class=\"fragment\" class=\"text_cell_render:class=\"fragment text_cell_render:' cyclus-spring2013-update_slides.html \r\n",
        "sed -i 's/.rendered_html ul{list-style:disc;margin:1em 2em;}/.rendered_html ul{list-style:disc;margin:0em 2em;}/' cyclus-spring2013-update_slides.html \r\n"
       ]
      }
     ],
     "prompt_number": 26
    },
    {
     "cell_type": "code",
     "collapsed": false,
     "input": [],
     "language": "python",
     "metadata": {},
     "outputs": []
    }
   ],
   "metadata": {}
  }
 ]
}
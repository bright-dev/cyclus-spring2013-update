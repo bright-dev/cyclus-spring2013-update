{
 "metadata": {
  "name": "cyclus-spring2013-update"
 },
 "nbformat": 3,
 "nbformat_minor": 0,
 "worksheets": [
  {
   "cells": [
    {
     "cell_type": "markdown",
     "metadata": {
      "slideshow": {
       "slide_type": "slide"
      }
     },
     "source": [
      "<div style=\"text-align:center\">\n",
      "<h1>Cyclus Spring 2013 Update</h1>\n",
      "<h2>Work to Date</h2>\n",
      "</div>\n",
      "<div style=\"text-align:center\">Dr. Anthony Michael Scopatz, John Xia</div>\n",
      "<div style=\"text-align:center\">The University of Chicago, The Flash Center for Computational Science</div>\n",
      "<div style=\"text-align:center\">UT Austin, April 19th, 2013</div>"
     ]
    },
    {
     "cell_type": "code",
     "collapsed": false,
     "input": [
      "import numpy as np\n",
      "import matplotlib\n",
      "matplotlib.rc('font', family='serif', size=16)\n",
      "import matplotlib.pyplot as plt\n",
      "from IPython.display import *\n",
      "\n",
      "#import bright\n",
      "#from bright.fast_reactor1g import FastReactor1G\n",
      "#fr = FastReactor1G(bright.bright_conf.BRIGHT_DATA + '/FR.h5')"
     ],
     "language": "python",
     "metadata": {
      "slideshow": {
       "slide_type": "skip"
      }
     },
     "outputs": [],
     "prompt_number": 1
    },
    {
     "cell_type": "markdown",
     "metadata": {
      "slideshow": {
       "slide_type": "slide"
      }
     },
     "source": [
      "#ENDF Reader\n",
      "\n",
      "* Precomputing cross-sections or computing them on-the-fly is useful\n",
      "* Existing tools are hard to use or slow\n",
      "* To easily and quickly compute cross-sections, we need to be able to easily and quickly read nuclear data"
     ]
    },
    {
     "cell_type": "markdown",
     "metadata": {
      "slideshow": {
       "slide_type": "slide"
      }
     },
     "source": [
      "#Current Status\n",
      "* Read in headers, resonance data, and cross-section data from ENDF files\n",
      "* Easily plot cross-section data"
     ]
    },
    {
     "cell_type": "code",
     "collapsed": false,
     "input": [
      "from pyne.endf import Library\n",
      "import matplotlib.pyplot as plt\n",
      "import os"
     ],
     "language": "python",
     "metadata": {
      "slideshow": {
       "slide_type": "fragment"
      }
     },
     "outputs": [],
     "prompt_number": 1
    },
    {
     "cell_type": "code",
     "collapsed": false,
     "input": [
      "if not os.path.isfile(\"U235-VII.txt\"):\n",
      "    from urllib import urlretrieve\n",
      "    urlretrieve(\"http://t2.lanl.gov/nis/data/data/ENDFB-VII-neutron/U/235\", \"U235-VII.txt\")"
     ],
     "language": "python",
     "metadata": {
      "slideshow": {
       "slide_type": "fragment"
      }
     },
     "outputs": [],
     "prompt_number": 2
    },
    {
     "cell_type": "code",
     "collapsed": false,
     "input": [
      "u235 = Library(\"U235-VII.txt\")\n",
      "u235._read_res(922350)\n",
      "xs_data = u235.get_xs(922350, 102)[0]"
     ],
     "language": "python",
     "metadata": {
      "slideshow": {
       "slide_type": "fragment"
      }
     },
     "outputs": [],
     "prompt_number": 3
    },
    {
     "cell_type": "code",
     "collapsed": false,
     "input": [
      "fig = plt.figure(figsize=(8,6))\n",
      "Eints, sigmas = xs_data['Eint'], xs_data['xs']\n",
      "plt.step(Eints, sigmas, where = \"pre\")\n",
      "plt.suptitle(r'Production of 2n in $^{235}$U')\n",
      "plt.ylabel(r'$\\sigma(E)$ (barns)')\n",
      "plt.xlabel(r'$E_{int} (eV)$')\n",
      "plt.xscale('log')\n",
      "plt.xlim(xmin=1000)\n",
      "plt.yscale('log')"
     ],
     "language": "python",
     "metadata": {
      "slideshow": {
       "slide_type": "fragment"
      }
     },
     "outputs": [
      {
       "output_type": "display_data",
       "png": "[encoded data removed]",
       "text": [
        "<matplotlib.figure.Figure at 0x47a7290>"
       ]
      }
     ],
     "prompt_number": 9
    },
    {
     "cell_type": "markdown",
     "metadata": {
      "slideshow": {
       "slide_type": "slide"
      }
     },
     "source": [
      "# Next Steps\n",
      "* Integrate ENDF reader with existing PyNE data sources for ease of use\n",
      "* Support interpretation of resonance data"
     ]
    },
    {
     "cell_type": "markdown",
     "metadata": {
      "slideshow": {
       "slide_type": "slide"
      }
     },
     "source": [
      "## Questions\n",
      "\n",
      "<div style=\"text-align:center;\"><img src=\"http://24.media.tumblr.com/tumblr_m1rk6gkLao1r38bjro10_500.jpg\" width=\"80%\" /></div>"
     ]
    },
    {
     "cell_type": "markdown",
     "metadata": {
      "slideshow": {
       "slide_type": "slide"
      }
     },
     "source": [
      "## References\n",
      "\n",
      "1. Anthony M. Scopatz and Erich a. Schneider. \u201cA new method for rapid computation of transient fuel cycle material balances\u201d. In: Nuclear Engineering and Design 239.10 (Oct. 2009), pp. 2169\u20132184. ISSN: 00295493. DOI: 10.1016/j.nucengdes.2009.02.022. URL: http://linkinghub.elsevier.com/retrieve/pii/S0029549309000922\n",
      "2. M Takano. Burnup Credit Criticality Benchmark - Result of Phase 1A - NEA/NSC/DOC(93)22. Tech. rep. January. Nuclear Energy Agency, 1994, pp. 1\u2013147\n",
      "3. OECD. Advanced Nuclear Fuel Cycles and Radioactive Waste Management - NEA-5990. Tech. rep. Nuclear Energy Agency, 2006, pp. 1\u2013248\n",
      "5. Nuclear Energy Data Files. Los Alamos National Laboratory - Theoretical Nuclear Physics. 2009. URL: http://t2.lanl.gov/data/data.html\n",
      "6. Jaakko Lepp. PSG2 / Serpent \u00e2A \u0327 a Continuous-energy Monte Carlo Reactor Physics Burnup Calculation Code. Tech. rep. 2011, p. 157\n",
      "7. A G Croff. ORIGEN 2.2 - CCC-371. Tech. rep. Oak Ridge National Laboratory, 2002, pp. 1\u2013222"
     ]
    },
    {
     "cell_type": "code",
     "collapsed": false,
     "input": [
      "!make"
     ],
     "language": "python",
     "metadata": {
      "slideshow": {
       "slide_type": "skip"
      }
     },
     "outputs": [
      {
       "output_type": "stream",
       "stream": "stdout",
       "text": [
        "cp -r ~/nbconvert/reveal . \r\n",
        "rm -rf reveal/.git* \r\n",
        "mkdir -p js \r\n",
        "cp ~/nbconvert/js/mathjax-onload.js js\r\n",
        "cp classy.css reveal/css/theme/ \r\n",
        "python ~/nbconvert/nbconvert.py -f reveal cyclus-spring2013-update.ipynb \r\n"
       ]
      },
      {
       "output_type": "stream",
       "stream": "stdout",
       "text": [
        "sed -i 's:reveal/css/theme/simple.css:reveal/css/theme/classy.css:' cyclus-spring2013-update_slides.html \r\n",
        "sed -i 's:class=\"fragment\" class=\"text_cell_render:class=\"fragment text_cell_render:' cyclus-spring2013-update_slides.html \r\n",
        "sed -i 's/.rendered_html ul{list-style:disc;margin:1em 2em;}/.rendered_html ul{list-style:disc;margin:0em 2em;}/' cyclus-spring2013-update_slides.html \r\n"
       ]
      }
     ],
     "prompt_number": 6
    },
    {
     "cell_type": "code",
     "collapsed": false,
     "input": [],
     "language": "python",
     "metadata": {},
     "outputs": []
    }
   ],
   "metadata": {}
  }
 ]
}